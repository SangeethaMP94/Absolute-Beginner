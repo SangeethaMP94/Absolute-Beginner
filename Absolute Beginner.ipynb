{
 "cells": [
  {
   "cell_type": "markdown",
   "id": "1b0ffefc-1dea-446e-8de7-860add55262b",
   "metadata": {},
   "source": [
    "The area of an equilateral triangle is ¼(√3a2) where \"a\" represents a side of the triangle. You are provided with the side \"a\". Find the area of the equilateral triangle.\n",
    "\n",
    "Input Description:\n",
    "The side of an equilateral triangle is provided as the input.\n",
    "\n",
    "Output Description:\n",
    "Find the area of the equilateral triangle and print the answer up to 2 decimal places after rounding off.\n",
    "\n",
    "Sample Input :\n",
    "20\n",
    "Sample Output :\n",
    "173.21"
   ]
  },
  {
   "cell_type": "code",
   "execution_count": 1,
   "id": "1ce8de1c-5361-4f67-a569-46af8f794a69",
   "metadata": {},
   "outputs": [
    {
     "name": "stdin",
     "output_type": "stream",
     "text": [
      " 20\n"
     ]
    },
    {
     "name": "stdout",
     "output_type": "stream",
     "text": [
      "173.21\n"
     ]
    }
   ],
   "source": [
    "from math import sqrt\n",
    "a = int(input())\n",
    "b = a**2\n",
    "c =sqrt(3)*b\n",
    "d = (1/4)*c\n",
    "print(\"{:.2f}\".format(d))"
   ]
  },
  {
   "cell_type": "markdown",
   "id": "87a54372-347f-490d-84d6-9ca5b26beae5",
   "metadata": {},
   "source": [
    "Print the First 3 multiples of the given number \"N\". (N is a positive integer)\r\n",
    "\r\n",
    "Note: print the characters with a single space between them.\r\n",
    "\r\n",
    "Input Description:\r\n",
    "A positive integer is provided to you as an input.\r\n",
    "\r\n",
    "Output Description:\r\n",
    "Print the First 3 multiples of the number with single spaces between them as an output.\r\n",
    "\r\n",
    "Sample Input :\r\n",
    "2\r\n",
    "Sample Output :\r\n",
    "2 4 6"
   ]
  },
  {
   "cell_type": "code",
   "execution_count": 2,
   "id": "3315f7d1-1783-420c-b6cf-95f6d6be0540",
   "metadata": {},
   "outputs": [
    {
     "name": "stdin",
     "output_type": "stream",
     "text": [
      " 2\n"
     ]
    },
    {
     "name": "stdout",
     "output_type": "stream",
     "text": [
      "2 4 6\n"
     ]
    }
   ],
   "source": [
    "N = int(input())\n",
    "l =[]\n",
    "for i in range(1,4):\n",
    "  l.append(N*i)\n",
    "print(*l)"
   ]
  },
  {
   "cell_type": "markdown",
   "id": "f73abcb6-d58e-4bab-a164-88b7a99c6469",
   "metadata": {},
   "source": [
    "You are given with a number \"N\", find its cube.\n",
    "\n",
    "Input Description:\n",
    "A positive integer is provided.\n",
    "\n",
    "Output Description:\n",
    "Find the cube of the number.\n",
    "\n",
    "Sample Input :\n",
    "2\n",
    "Sample Output :\n",
    "8"
   ]
  },
  {
   "cell_type": "code",
   "execution_count": 3,
   "id": "1de4bac8-3bf0-4659-8077-17f9f0f4a83d",
   "metadata": {},
   "outputs": [
    {
     "name": "stdin",
     "output_type": "stream",
     "text": [
      " 2\n"
     ]
    },
    {
     "name": "stdout",
     "output_type": "stream",
     "text": [
      "8\n"
     ]
    }
   ],
   "source": [
    "A = int(input())\n",
    "n = A**3\n",
    "print(n)"
   ]
  },
  {
   "cell_type": "markdown",
   "id": "9a1655df-5fb4-440d-a1c5-abf42f9b4572",
   "metadata": {},
   "source": [
    "You are provided with a number check whether its odd or even. \n",
    "\n",
    "Print \"Odd\" or \"Even\" for the corresponding cases.\n",
    "\n",
    "Note: In case of a decimal, Round off to nearest integer and then find the output. Incase the input is zero, print \"Zero\".\n",
    "\n",
    "Input Description:\n",
    "A number is provided as the input.\n",
    "\n",
    "Output Description:\n",
    "Find out whether the number is odd or even. Print \"Odd\" or \"Even\" for the corresponding cases. Note: In case of a decimal, Round off to nearest integer and then find the output. In case the input is zero, print \"Zero\".\n",
    "\n",
    "Sample Input :\n",
    "2\n",
    "Sample Output :\n",
    "Even"
   ]
  },
  {
   "cell_type": "code",
   "execution_count": 4,
   "id": "4efdfa36-17fd-485e-bc2b-605152457652",
   "metadata": {},
   "outputs": [
    {
     "name": "stdin",
     "output_type": "stream",
     "text": [
      " 2\n"
     ]
    },
    {
     "name": "stdout",
     "output_type": "stream",
     "text": [
      "Even\n"
     ]
    }
   ],
   "source": [
    "a = int(input())\n",
    "if a%2 == 0:\n",
    "    print(\"Even\")\n",
    "else:\n",
    "    print(\"Odd\")"
   ]
  },
  {
   "cell_type": "markdown",
   "id": "f435eb37-ac2c-432d-b65c-37fc6684dfbf",
   "metadata": {},
   "source": [
    "You are given Two Numbers, A and B. If C = A + B. Find C.\r\n",
    "\r\n",
    "Note: Round off the output to a single decimal place.\r\n",
    "\r\n",
    "Input Description:\r\n",
    "You are provided with two numbers A and B.\r\n",
    "\r\n",
    "Output Description:\r\n",
    "Find the sum of the two numbers (A + B)\r\n",
    "\r\n",
    "Sample Input :\r\n",
    "1\r\n",
    "1\r\n",
    "Sample Output :\r\n",
    "2"
   ]
  },
  {
   "cell_type": "code",
   "execution_count": 5,
   "id": "ee0d2d95-0f6e-4beb-b2b2-ae7dad41b465",
   "metadata": {},
   "outputs": [
    {
     "name": "stdin",
     "output_type": "stream",
     "text": [
      " 1\n",
      " 1\n"
     ]
    },
    {
     "name": "stdout",
     "output_type": "stream",
     "text": [
      "2\n"
     ]
    }
   ],
   "source": [
    "A = int(input())\n",
    "B = int(input())\n",
    "C = A + B\n",
    "print(C)"
   ]
  },
  {
   "cell_type": "markdown",
   "id": "4bcdab87-6607-4244-8e1f-67b84b359a5b",
   "metadata": {},
   "source": [
    "You are provided with a number, \"N\". Find its factorial.\n",
    "\n",
    "Input Description:\n",
    "A positive integer is provided as an input.\n",
    "\n",
    "Output Description:\n",
    "Print the factorial of the integer.\n",
    "\n",
    "Sample Input :\n",
    "2\n",
    "Sample Output :\n",
    "2"
   ]
  },
  {
   "cell_type": "code",
   "execution_count": 6,
   "id": "5e076033-a0ef-41ed-a061-d6e89e34f70e",
   "metadata": {},
   "outputs": [
    {
     "name": "stdin",
     "output_type": "stream",
     "text": [
      " 2\n"
     ]
    },
    {
     "name": "stdout",
     "output_type": "stream",
     "text": [
      "2\n"
     ]
    }
   ],
   "source": [
    "import math\n",
    "def san(n):\n",
    "  x = math.factorial(n)\n",
    "  return x \n",
    "\n",
    "N = san(int(input()))\n",
    "print(N)\n",
    "  "
   ]
  },
  {
   "cell_type": "markdown",
   "id": "741b086e-1d43-4cb2-b66f-0e38d5a74f98",
   "metadata": {},
   "source": [
    "You are given a number A in Kilometers. Convert this into B: Meters and C: Centi-Metres.\n",
    "\n",
    "Input Description:\n",
    "A number \"A\" representing some distance in kilometer is provided to you as the input.\n",
    "\n",
    "Output Description:\n",
    "Convert and print this value in meters and centimeters.\n",
    "\n",
    "Sample Input :\n",
    "2\n",
    "Sample Output :\n",
    "2000\n",
    "200000"
   ]
  },
  {
   "cell_type": "code",
   "execution_count": 7,
   "id": "11fda635-6fac-4d2a-8328-f34a224421f9",
   "metadata": {},
   "outputs": [
    {
     "name": "stdin",
     "output_type": "stream",
     "text": [
      " 2\n"
     ]
    },
    {
     "name": "stdout",
     "output_type": "stream",
     "text": [
      "2000\n",
      "200000\n"
     ]
    }
   ],
   "source": [
    "A = int(input())\n",
    "print(A*1000)\n",
    "print(A*100000)"
   ]
  },
  {
   "cell_type": "markdown",
   "id": "6a02176e-0023-4cbe-a0b2-d1f80c70d550",
   "metadata": {},
   "source": [
    "You are given A = Length of a rectangle & B = breadth of a rectangle. Find its area “C”.\n",
    "\n",
    "(A and B are natural numbers)\n",
    "\n",
    "Input Description:\n",
    "The inputs are two natural numbers representing the length and the breadth of a rectangle.\n",
    "\n",
    "Output Description:\n",
    "Find the area of the rectangle formed by the provided input. Round off the answer to the first decimal place if required.\n",
    "\n",
    "Sample Input :\n",
    "2\n",
    "3\n",
    "Sample Output :\n",
    "6"
   ]
  },
  {
   "cell_type": "code",
   "execution_count": 8,
   "id": "de1d1f20-5636-41bf-8677-5752b7159200",
   "metadata": {},
   "outputs": [
    {
     "name": "stdin",
     "output_type": "stream",
     "text": [
      " 2\n",
      " 3\n"
     ]
    },
    {
     "name": "stdout",
     "output_type": "stream",
     "text": [
      "6\n"
     ]
    }
   ],
   "source": [
    "A = int(input())\n",
    "B = int(input())\n",
    "C = A *B\n",
    "print(C)"
   ]
  },
  {
   "cell_type": "markdown",
   "id": "41af2c07-a0e1-4ec0-b72c-079f52e9160d",
   "metadata": {},
   "source": [
    "Let \"A\" be a year, write a program to check whether this year is a leap year or not.\n",
    "\n",
    "Print \"Y\" if its a leap year and \"N\" if its a common year.\n",
    "\n",
    "Input Description:\n",
    "A Year is the input in the form of a positive integer.\n",
    "\n",
    "Output Description:\n",
    "Print \"Y\" if its a leap year and \"N\" if its a common year.\n",
    "\n",
    "Sample Input :\n",
    "2020\n",
    "Sample Output :\n",
    "Y"
   ]
  },
  {
   "cell_type": "code",
   "execution_count": 9,
   "id": "d1b77e3d-4712-4eb3-8fba-770821426cc7",
   "metadata": {},
   "outputs": [
    {
     "name": "stdin",
     "output_type": "stream",
     "text": [
      " 2020\n"
     ]
    },
    {
     "name": "stdout",
     "output_type": "stream",
     "text": [
      "Y\n"
     ]
    }
   ],
   "source": [
    "A = int(input())\n",
    "if A%4==0:\n",
    "  print(\"Y\")\n",
    "else:\n",
    "  print(\"N\")"
   ]
  },
  {
   "cell_type": "markdown",
   "id": "208348d7-15d7-4bc7-84d4-b0de9a984df0",
   "metadata": {},
   "source": [
    "You are given the coefficients of a quadratic equation in order A, B & C.\n",
    "\n",
    "Where A is the coefficient of X2,  B is the coefficient of X and C is the constant term in the most simplified form.\n",
    "\n",
    "Example: For  X2 + 5X + 6 = 0, you are given the input as: 1 5 6.\n",
    "\n",
    "Write a program to find all of the roots of the quadratic.\n",
    "\n",
    "Note: The output should be up to 2nd decimal place (round off if needed) and in case of a recurring decimal use braces i.e. for eg: 0.33333..... => 0.33.\n",
    "\n",
    "Note: Use Shri Dharacharya's Method to solve i.e. X = {-b + √(b² - 4ac) } / 2a & {-b-√(b² -4ac)} / 2a\n",
    "\n",
    "Input Description:\n",
    "Three numbers corresponding to the coefficients of x(squared), x and constant are given as an input in that particular order\n",
    "\n",
    "Output Description:\n",
    "Print the two values of X after rounding off to 2 decimal places if required.\n",
    "\n",
    "Sample Input :\n",
    "1 5 6\n",
    "Sample Output :\n",
    "-2.00\n",
    "-3.00"
   ]
  },
  {
   "cell_type": "code",
   "execution_count": 10,
   "id": "f1831d86-8ce0-430e-a7f2-8f99eb22b820",
   "metadata": {},
   "outputs": [
    {
     "name": "stdin",
     "output_type": "stream",
     "text": [
      " 1 5 6\n"
     ]
    },
    {
     "name": "stdout",
     "output_type": "stream",
     "text": [
      "-2.00\n",
      "-3.00\n"
     ]
    }
   ],
   "source": [
    "import math\n",
    "A,B,C = input().split()\n",
    "a,b,c = [int(i) for i in [A,B,C]]\n",
    "sq = math.sqrt((b**2) - 4*a*c)\n",
    "x = (-b + sq) /(2*a)\n",
    "y = (-b - sq) /(2*a)\n",
    "print('%.2f'%x)\n",
    "print('%.2f'%y)"
   ]
  },
  {
   "cell_type": "markdown",
   "id": "f44c5207-b8f9-4d63-a386-b40647511cf1",
   "metadata": {},
   "source": [
    "You are provided with two numbers. Find and print the smaller number.\n",
    "\n",
    "Input Description:\n",
    "You are provided with two numbers as input.\n",
    "\n",
    "Output Description:\n",
    "Print the small number out of the two numbers.\n",
    "\n",
    "Sample Input :\n",
    "23 1\n",
    "Sample Output :\n",
    "1"
   ]
  },
  {
   "cell_type": "code",
   "execution_count": 11,
   "id": "21bd3a0d-74e7-46c5-92da-04cb2ba06eff",
   "metadata": {},
   "outputs": [
    {
     "name": "stdin",
     "output_type": "stream",
     "text": [
      " 23 1\n"
     ]
    },
    {
     "name": "stdout",
     "output_type": "stream",
     "text": [
      "1\n"
     ]
    }
   ],
   "source": [
    "A,B = input().split()\n",
    "print(min(A,B))"
   ]
  },
  {
   "cell_type": "markdown",
   "id": "fc6af4ca-cf72-4f4d-a050-7ea66b1ee872",
   "metadata": {},
   "source": [
    "You are given three numbers A, B & C. Print the largest amongst these three numbers.\n",
    "\n",
    "Input Description:\n",
    "Three numbers are provided to you.\n",
    "\n",
    "Output Description:\n",
    "Find and print the largest among the three\n",
    "\n",
    "Sample Input :\n",
    "1\n",
    "2\n",
    "3\n",
    "Sample Output :\n",
    "3"
   ]
  },
  {
   "cell_type": "code",
   "execution_count": 12,
   "id": "7dc3b37f-aac4-485d-9b3d-5c8668247334",
   "metadata": {},
   "outputs": [
    {
     "name": "stdin",
     "output_type": "stream",
     "text": [
      " 1\n",
      " 2\n",
      " 3\n"
     ]
    },
    {
     "name": "stdout",
     "output_type": "stream",
     "text": [
      "3\n"
     ]
    }
   ],
   "source": [
    "A = int(input())\n",
    "B = int(input())\n",
    "C = int(input())\n",
    "print(max(A,B,C))"
   ]
  },
  {
   "cell_type": "markdown",
   "id": "1abfc381-0faa-479e-9bb0-c29223e103ab",
   "metadata": {},
   "source": [
    "You are given with Principle amount($), Interest Rate(%) and Time (years) in that order. Find Simple Interest.\r\n",
    "\r\n",
    "Print the output up to two decimal places (Round-off if necessary).\r\n",
    "\r\n",
    "(S.I. = P*T*R/100)\r\n",
    "\r\n",
    "Input Description:\r\n",
    "Three values are given to you as the input. these values correspond to Principle amount, Interest Rate and Time in that particular order.\r\n",
    "\r\n",
    "Output Description:\r\n",
    "Find the Simple interest and print it up to two decimal places. Round off if required.\r\n",
    "\r\n",
    "Sample Input :\r\n",
    "1000 2 5\r\n",
    "Sample Output :\r\n",
    "100.00"
   ]
  },
  {
   "cell_type": "code",
   "execution_count": 13,
   "id": "f876369d-1574-49f9-afc3-b8e0d57e44c2",
   "metadata": {},
   "outputs": [
    {
     "name": "stdin",
     "output_type": "stream",
     "text": [
      " 1000 2 5\n"
     ]
    },
    {
     "name": "stdout",
     "output_type": "stream",
     "text": [
      "100.00\n"
     ]
    }
   ],
   "source": [
    "P,T,R = list(map(float,input().split()))\n",
    "s = (P*T*R)/100\n",
    "print('%.2f'%s)"
   ]
  },
  {
   "cell_type": "markdown",
   "id": "3600759c-f143-48b0-9675-dc2f8855a15b",
   "metadata": {},
   "source": [
    "You are provided with the radius of a circle \"A\". Find the length of its circumference.\n",
    "\n",
    "Note: In case the output is coming in decimal, roundoff to 2nd decimal place. In case the input is a negative number, print \"Error\".\n",
    "\n",
    "Input Description:\n",
    "The Radius of a circle is provided as the input of the program.\n",
    "\n",
    "Output Description:\n",
    "Calculate and print the Circumference of the circle corresponding to the input radius up to two decimal places.\n",
    "\n",
    "Sample Input :\n",
    "2\n",
    "Sample Output :\n",
    "12.57"
   ]
  },
  {
   "cell_type": "code",
   "execution_count": 14,
   "id": "eaec0f56-3c06-4ea7-8afd-76a4a1b9032a",
   "metadata": {},
   "outputs": [
    {
     "name": "stdin",
     "output_type": "stream",
     "text": [
      " 2\n"
     ]
    },
    {
     "name": "stdout",
     "output_type": "stream",
     "text": [
      "12.57\n"
     ]
    }
   ],
   "source": [
    "A = float(input())\n",
    "if A>=0:\n",
    "  B = 22/7\n",
    "  C = 2*B\n",
    "  D = C*A\n",
    "  print(\"{:.2f}\".format(D))\n",
    "else:\n",
    "  print(\"Error\")"
   ]
  },
  {
   "cell_type": "markdown",
   "id": "3e9c1551-9740-49ad-b388-c72b0f89c8ba",
   "metadata": {},
   "source": [
    "Write a code to get an integer N and print the values from N to 1.\r\n",
    "\r\n",
    "Input Description:\r\n",
    "A single line contains an integer N.\r\n",
    "\r\n",
    "Output Description:\r\n",
    "Print the values from N to 1 in a separate line.\r\n",
    "\r\n",
    "Sample Input :\r\n",
    "10\r\n",
    "Sample Output :\r\n",
    "10\r\n",
    "9\r\n",
    "8\r\n",
    "7\r\n",
    "6\r\n",
    "5\r\n",
    "4\r\n",
    "3\r\n",
    "2\r\n",
    "1"
   ]
  },
  {
   "cell_type": "code",
   "execution_count": 15,
   "id": "3f5e2371-1db4-4d34-aa8b-0f73906d30d1",
   "metadata": {},
   "outputs": [
    {
     "name": "stdin",
     "output_type": "stream",
     "text": [
      " 10\n"
     ]
    },
    {
     "name": "stdout",
     "output_type": "stream",
     "text": [
      "10\n",
      "9\n",
      "8\n",
      "7\n",
      "6\n",
      "5\n",
      "4\n",
      "3\n",
      "2\n",
      "1\n"
     ]
    }
   ],
   "source": [
    "a = int(input())\n",
    "while a>0:\n",
    "  print(a)\n",
    "  a = a - 1"
   ]
  },
  {
   "cell_type": "markdown",
   "id": "48f66b04-ec0b-4ca4-bf24-4b96ced9a73d",
   "metadata": {},
   "source": [
    "You are given with a number A i.e. the temperature in Celcius. Write a program to convert this into Fahrenheit. \n",
    "\n",
    "Note: In case of decimal values, round-off to two decimal places.\n",
    "\n",
    "Input Description:\n",
    "A number is provided in Celcius as the input of the program.\n",
    "\n",
    "Output Description:\n",
    "The output shall be the temperature converted into Fahrenheit corresponding to the input value print up to two decimal places and round off if required.\n",
    "\n",
    "Sample Input :\n",
    "12\n",
    "Sample Output :\n",
    "53.60"
   ]
  },
  {
   "cell_type": "code",
   "execution_count": 16,
   "id": "e5f9bd06-864a-4b69-be32-6857567363d3",
   "metadata": {},
   "outputs": [
    {
     "name": "stdin",
     "output_type": "stream",
     "text": [
      " 12\n"
     ]
    },
    {
     "name": "stdout",
     "output_type": "stream",
     "text": [
      "53.60\n"
     ]
    }
   ],
   "source": [
    "A = float(input())\n",
    "B = A*(9/5)\n",
    "C = B+32\n",
    "print(\"{:.2f}\".format(C))"
   ]
  },
  {
   "cell_type": "markdown",
   "id": "e9a1682d-8ab4-42a2-80cd-30fe62d27dd4",
   "metadata": {},
   "source": [
    "Let \"A\"  be a string. Remove all the whitespaces and find it's length.\n",
    "\n",
    "Input Description:\n",
    "A string is provide as an input\n",
    "\n",
    "Output Description:\n",
    "Remove all the whitespaces and then print the length of the remaining string.\n",
    "\n",
    "Sample Input :\n",
    "Lorem Ipsum\n",
    "Sample Output :\n",
    "10"
   ]
  },
  {
   "cell_type": "code",
   "execution_count": 17,
   "id": "0c6cfc83-b2b2-49fa-a76e-9e12d5670c92",
   "metadata": {},
   "outputs": [
    {
     "name": "stdin",
     "output_type": "stream",
     "text": [
      " Lorem Ipsum\n"
     ]
    },
    {
     "name": "stdout",
     "output_type": "stream",
     "text": [
      "10\n"
     ]
    }
   ],
   "source": [
    "A = input()\n",
    "print(len(A.replace(\" \",\"\")))"
   ]
  },
  {
   "cell_type": "markdown",
   "id": "d5b67d63-560f-4f6d-978f-46ad01f98b1b",
   "metadata": {},
   "source": [
    "Write a code to get an integer N and print the sum of  values from 1 to N.\n",
    "\n",
    "Input Description:\n",
    "A single line contains an integer N.\n",
    "\n",
    "Output Description:\n",
    "Print the sum of values from 1 to N.\n",
    "\n",
    "Sample Input :\n",
    "10\n",
    "Sample Output :\n",
    "55"
   ]
  },
  {
   "cell_type": "code",
   "execution_count": 18,
   "id": "0bbb6a8a-741c-4943-9a8d-e376de6f2d85",
   "metadata": {},
   "outputs": [
    {
     "name": "stdin",
     "output_type": "stream",
     "text": [
      " 10\n"
     ]
    },
    {
     "name": "stdout",
     "output_type": "stream",
     "text": [
      "55\n"
     ]
    }
   ],
   "source": [
    "a = int(input())\n",
    "b = []\n",
    "sum = 0\n",
    "while a>0:\n",
    "  b.append(a)\n",
    "  a = a-1\n",
    "\n",
    "for i in b:\n",
    "  sum = sum +i\n",
    "print(sum)"
   ]
  },
  {
   "cell_type": "markdown",
   "id": "32f291d5-028f-4c0a-b6e8-87959ddb21c2",
   "metadata": {},
   "source": [
    "You will be provided with a number. Print the number of days in the month corresponding to that number.\r\n",
    "\r\n",
    "Note: In case the input is February, print 28 days. If the Input is not in valid range print \"Error\".\r\n",
    "\r\n",
    "Input Description:\r\n",
    "The input is in the form of a number.\r\n",
    "\r\n",
    "Output Description:\r\n",
    "Find the days in the month corresponding to the input number. Print Error if the input is not in a valid range.\r\n",
    "\r\n",
    "Sample Input :\r\n",
    "8\r\n",
    "Sample Output :\r\n",
    "31"
   ]
  },
  {
   "cell_type": "code",
   "execution_count": 22,
   "id": "d4de5280-08f1-48af-8fb4-026b539dbec2",
   "metadata": {},
   "outputs": [
    {
     "name": "stdin",
     "output_type": "stream",
     "text": [
      " 44\n"
     ]
    },
    {
     "name": "stdout",
     "output_type": "stream",
     "text": [
      "Error\n"
     ]
    }
   ],
   "source": [
    "A = input()\n",
    "if A==1:\n",
    "  print(31)\n",
    "elif A==4:\n",
    "  print(30)\n",
    "elif A==6:\n",
    "  print(30)\n",
    "elif A==9:\n",
    "  print(30)\n",
    "elif A==11:\n",
    "  print(30)\n",
    "elif A==3:\n",
    "  print(31)\n",
    "elif A==5:\n",
    "  print(31)\n",
    "elif A==7:\n",
    "  print(31)\n",
    "elif A==8:\n",
    "  print(31)\n",
    "elif A==10:\n",
    "  print(31)\n",
    "elif A==12:\n",
    "  print(31)\n",
    "elif A==2:\n",
    "  print(28)\n",
    "else:\n",
    "  print(\"Error\")"
   ]
  },
  {
   "cell_type": "markdown",
   "id": "2c84c655-5a39-45c6-b5b7-799c675c0c79",
   "metadata": {},
   "source": [
    "Write a code to get an integer N and print values from 1 till N in a separate line.\n",
    "\n",
    "Input Description:\n",
    "A single line contains an integer N.\n",
    "\n",
    "Output Description:\n",
    "Print the values from 1 to N in a separate line.\n",
    "\n",
    "Sample Input :\n",
    "5\n",
    "Sample Output :\n",
    "1\n",
    "2\n",
    "3\n",
    "4\n",
    "5\n"
   ]
  },
  {
   "cell_type": "code",
   "execution_count": 23,
   "id": "5972d6ee-e0bf-4a56-9772-aee284a03d7b",
   "metadata": {},
   "outputs": [
    {
     "name": "stdin",
     "output_type": "stream",
     "text": [
      " 5\n"
     ]
    },
    {
     "name": "stdout",
     "output_type": "stream",
     "text": [
      "1\n",
      "2\n",
      "3\n",
      "4\n",
      "5\n"
     ]
    }
   ],
   "source": [
    "N = int(input())\n",
    "i =1\n",
    "while i<=N:\n",
    "  print(i)\n",
    "  i=i+1"
   ]
  },
  {
   "cell_type": "markdown",
   "id": "e5a0cea8-5d96-418d-855e-8ae79be5db12",
   "metadata": {},
   "source": [
    "Write a code to get an integer N and print the digits of the integer.\n",
    "\n",
    "Input Description:\n",
    "A single line contains an integer N.\n",
    "\n",
    "Output Description:\n",
    "Print the digits of the integer in a single line separated by space,\n",
    "\n",
    "Sample Input :\n",
    "348\n",
    "Sample Output :\n",
    "3 4 8"
   ]
  },
  {
   "cell_type": "code",
   "execution_count": 24,
   "id": "2cf5d9a2-f80f-4ca1-a81d-3f242f2c5ced",
   "metadata": {},
   "outputs": [
    {
     "name": "stdin",
     "output_type": "stream",
     "text": [
      " 348\n"
     ]
    },
    {
     "name": "stdout",
     "output_type": "stream",
     "text": [
      "3 4 8\n"
     ]
    }
   ],
   "source": [
    "a = input()\n",
    "print(*a)"
   ]
  },
  {
   "cell_type": "markdown",
   "id": "180090fc-0f3f-478e-b0a5-1995023c280b",
   "metadata": {},
   "source": [
    "Write a code get an integer number as input and print the odd and even digits of the number separately.\n",
    "\n",
    "Input Description:\n",
    "A single line containing an integer.\n",
    "\n",
    "Output Description:\n",
    "Print the even and odd integers of the integer in a separate line.\n",
    "\n",
    "Sample Input :\n",
    "1234\n",
    "Sample Output :\n",
    "2 4\n",
    "1 3"
   ]
  },
  {
   "cell_type": "code",
   "execution_count": 25,
   "id": "80f3905e-c5f3-4ceb-ab5c-606dbc784635",
   "metadata": {},
   "outputs": [
    {
     "name": "stdin",
     "output_type": "stream",
     "text": [
      " 1234\n"
     ]
    },
    {
     "name": "stdout",
     "output_type": "stream",
     "text": [
      "2 4\n",
      "1 3\n"
     ]
    }
   ],
   "source": [
    "a = input()\n",
    "s=[]\n",
    "for i in a:\n",
    "  s.append(int(i))\n",
    "c = []\n",
    "l = []\n",
    "for j in s:\n",
    "  if j%2 == 0:\n",
    "    c.append(j)\n",
    "  else:\n",
    "    l.append(j)\n",
    "c.sort()\n",
    "l.sort()\n",
    "print(*c)\n",
    "print(*l)"
   ]
  },
  {
   "cell_type": "markdown",
   "id": "9668e9e7-6d3e-4a5b-8a09-7df66ff2c571",
   "metadata": {},
   "source": [
    "Write a code get an integer number as input and print the sum of the digits.\n",
    "\n",
    "Input Description:\n",
    "A single line containing an integer.\n",
    "\n",
    "Output Description:\n",
    "Print the sum of the digits of the integer.\n",
    "\n",
    "Sample Input :\n",
    "124\n",
    "Sample Output :\n",
    "7"
   ]
  },
  {
   "cell_type": "code",
   "execution_count": 26,
   "id": "67227822-71db-4a11-a7dc-da920631eb3d",
   "metadata": {},
   "outputs": [
    {
     "name": "stdin",
     "output_type": "stream",
     "text": [
      " 124\n"
     ]
    },
    {
     "name": "stdout",
     "output_type": "stream",
     "text": [
      "7\n"
     ]
    }
   ],
   "source": [
    "A = input()\n",
    "sum = 0\n",
    "for i in A:\n",
    "  sum = sum + int(i)\n",
    "print(sum)"
   ]
  },
  {
   "cell_type": "markdown",
   "id": "bb849b20-b572-4343-b7c2-711ccb3e3bf5",
   "metadata": {},
   "source": [
    "Write a code to get the input and print it 5 times.\n",
    "\n",
    "Input Description:\n",
    "A single line contains an integer N.\n",
    "\n",
    "Output Description:\n",
    "Output contains 5 lines with each line having the value N.\n",
    "\n",
    "Sample Input :\n",
    "4\n",
    "Sample Output :\n",
    "4\n",
    "4\n",
    "4\n",
    "4\n",
    "4"
   ]
  },
  {
   "cell_type": "code",
   "execution_count": 27,
   "id": "219f715c-2b33-4845-bf4c-9d6a5635bcd9",
   "metadata": {},
   "outputs": [
    {
     "name": "stdin",
     "output_type": "stream",
     "text": [
      " 4\n"
     ]
    },
    {
     "name": "stdout",
     "output_type": "stream",
     "text": [
      "4\n",
      "4\n",
      "4\n",
      "4\n",
      "4\n"
     ]
    }
   ],
   "source": [
    "a = int(input())\n",
    "for i in range (1,6):\n",
    "  print(a)"
   ]
  },
  {
   "cell_type": "markdown",
   "id": "3691791c-402f-4185-9166-cb74ffff8466",
   "metadata": {},
   "source": [
    "Write a code to get 2 integers as input and find the HCF of the 2 integer without using recursion or Euclidean algorithm.\n",
    "\n",
    "Input Description:\n",
    "A single line containing 2 integers separated by space.\n",
    "\n",
    "Output Description:\n",
    "Print the HCF of the integers.\n",
    "\n",
    "Sample Input :\n",
    "2 3\n",
    "Sample Output :\n",
    "1"
   ]
  },
  {
   "cell_type": "code",
   "execution_count": 28,
   "id": "70c7aae7-c2ed-4192-a012-e9ee72eb3281",
   "metadata": {},
   "outputs": [
    {
     "name": "stdin",
     "output_type": "stream",
     "text": [
      " 2 3\n"
     ]
    },
    {
     "name": "stdout",
     "output_type": "stream",
     "text": [
      "1\n"
     ]
    }
   ],
   "source": [
    "import math\n",
    "x,y = map(int,input().split())\n",
    "print(math.gcd(x,y))"
   ]
  },
  {
   "cell_type": "markdown",
   "id": "733effe0-5f21-4e28-990b-20a0280866ec",
   "metadata": {},
   "source": [
    "Write a program to get a string as input and reverse the string without using temporary variable.\n",
    "\n",
    "Input Description:\n",
    "A single line containing a string.\n",
    "\n",
    "Output Description:\n",
    "Print the reversed string.\n",
    "\n",
    "Sample Input :\n",
    "GUVI\n",
    "Sample Output :\n",
    "IVUG"
   ]
  },
  {
   "cell_type": "code",
   "execution_count": 29,
   "id": "e83c3ccc-ed46-4232-9ca4-676b6d4ac831",
   "metadata": {},
   "outputs": [
    {
     "name": "stdin",
     "output_type": "stream",
     "text": [
      " GUVI\n"
     ]
    },
    {
     "name": "stdout",
     "output_type": "stream",
     "text": [
      "IVUG\n"
     ]
    }
   ],
   "source": [
    "A = input()\n",
    "B = A[::-1]\n",
    "print(B)"
   ]
  },
  {
   "cell_type": "markdown",
   "id": "05e39ab2-f9db-4362-9490-55ea068990c4",
   "metadata": {},
   "source": [
    "Write a code to get an integer N and print the even values from 1 till N in a separate line.\n",
    "\n",
    "Input Description:\n",
    "A single line contains an integer N.\n",
    "\n",
    "Output Description:\n",
    "Print the even values from 1 to N in a separate line.\n",
    "\n",
    "Sample Input :\n",
    "6\n",
    "Sample Output :\n",
    "2\n",
    "4\n",
    "6"
   ]
  },
  {
   "cell_type": "code",
   "execution_count": 30,
   "id": "bf2837e7-0cf0-4571-877d-664ea16ac499",
   "metadata": {},
   "outputs": [
    {
     "name": "stdin",
     "output_type": "stream",
     "text": [
      " 6\n"
     ]
    },
    {
     "name": "stdout",
     "output_type": "stream",
     "text": [
      "2\n",
      "4\n",
      "6\n"
     ]
    }
   ],
   "source": [
    "i = 0\n",
    "a = int(input())\n",
    "while i<a:\n",
    "  i= i+2\n",
    "  print(i)"
   ]
  },
  {
   "cell_type": "markdown",
   "id": "d0758cb7-d7a3-4ef0-8643-ad9db0b0789e",
   "metadata": {},
   "source": [
    "Using the method of looping, write a program to print the table of 9 till N in the format as follows:\n",
    "(N is input by the user)\n",
    "\n",
    "9 18 27...\n",
    "\n",
    "Print NULL if 0 is input\n",
    "\n",
    "Input Description:\n",
    "A positive integer is provided as an input.\n",
    "\n",
    "Output Description:\n",
    "Print the table of nine with single space between the elements till the number that is input.\n",
    "\n",
    "Sample Input :\n",
    "3\n",
    "Sample Output :\n",
    "9 18 27"
   ]
  },
  {
   "cell_type": "code",
   "execution_count": 31,
   "id": "e19ec9e9-0ad6-4b75-95b1-0fd210c181bd",
   "metadata": {},
   "outputs": [
    {
     "name": "stdin",
     "output_type": "stream",
     "text": [
      " 3\n"
     ]
    },
    {
     "name": "stdout",
     "output_type": "stream",
     "text": [
      "9 18 27\n"
     ]
    }
   ],
   "source": [
    "a = int(input())\n",
    "b = []\n",
    "if a!=0:\n",
    "    for i in range(a):\n",
    "      m = 9*(i+1)\n",
    "      b.append(m)\n",
    "    print(*b)\n",
    "else:\n",
    "    print(\"NULL\")"
   ]
  },
  {
   "cell_type": "markdown",
   "id": "a0c69586-5e8e-41fc-bcac-025fc6d438a9",
   "metadata": {},
   "source": [
    "You are provided with a number \"N\", Find the Nth term of the series: 1, 4, 9, 16, 25, 36, 49, 64, 81, .......\n",
    "\n",
    "(Print \"Error\" if N = negative value and 0 if N = 0).\n",
    "\n",
    "Input Description:\n",
    "An integer N is provided to you as the input.\n",
    "\n",
    "Output Description:\n",
    "Find the Nth term in the provided series.\n",
    "\n",
    "Sample Input :\n",
    "18\n",
    "Sample Output :\n",
    "324"
   ]
  },
  {
   "cell_type": "code",
   "execution_count": 32,
   "id": "82fc2e0a-f06b-446c-9cb1-c118953c8f5e",
   "metadata": {},
   "outputs": [
    {
     "name": "stdin",
     "output_type": "stream",
     "text": [
      " 18\n"
     ]
    },
    {
     "name": "stdout",
     "output_type": "stream",
     "text": [
      "324\n"
     ]
    }
   ],
   "source": [
    "N = int(input())\n",
    "if N>0:\n",
    " print(N**2)\n",
    "elif N==0:\n",
    "  print(0)\n",
    "else:\n",
    "  print(\"Error\")"
   ]
  },
  {
   "cell_type": "markdown",
   "id": "5a6152a9-a581-4183-bc03-b2541e847fe3",
   "metadata": {},
   "source": [
    "Write a code to get 2 integers A and N. Print the integer A, N times in separate line.\n",
    "\n",
    "Input Description:\n",
    "First line contains an integer A. Second line contains an Integer N.\n",
    "\n",
    "Output Description:\n",
    "Print the integer A, N times in a separate line.\n",
    "\n",
    "Sample Input :\n",
    "2 3\n",
    "Sample Output :\n",
    "2\n",
    "2\n",
    "2"
   ]
  },
  {
   "cell_type": "code",
   "execution_count": 33,
   "id": "d4c7ef50-d76a-46a6-ae21-d83072d7f092",
   "metadata": {},
   "outputs": [
    {
     "name": "stdin",
     "output_type": "stream",
     "text": [
      " 2 3\n"
     ]
    },
    {
     "name": "stdout",
     "output_type": "stream",
     "text": [
      "2\n",
      "2\n",
      "2\n"
     ]
    }
   ],
   "source": [
    "A,N = list(map(int,input().split()))\n",
    "for i in range(0,N):\n",
    "  print(A)"
   ]
  }
 ],
 "metadata": {
  "kernelspec": {
   "display_name": "Python 3 (ipykernel)",
   "language": "python",
   "name": "python3"
  },
  "language_info": {
   "codemirror_mode": {
    "name": "ipython",
    "version": 3
   },
   "file_extension": ".py",
   "mimetype": "text/x-python",
   "name": "python",
   "nbconvert_exporter": "python",
   "pygments_lexer": "ipython3",
   "version": "3.10.0"
  }
 },
 "nbformat": 4,
 "nbformat_minor": 5
}
